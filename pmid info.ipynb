{
 "cells": [
  {
   "cell_type": "code",
   "execution_count": 117,
   "id": "58f718bb",
   "metadata": {},
   "outputs": [],
   "source": [
    "data <-read.delim('/data/pubmed-data.tsv', header=TRUE, sep=\"\\t\")"
   ]
  },
  {
   "cell_type": "code",
   "execution_count": 118,
   "id": "645fbe33",
   "metadata": {},
   "outputs": [],
   "source": [
    "data_sh <- read.delim('/data/pubmed-data.tsv', header=TRUE, sep=\"\\t\", nrows=200)#sample data used to test code"
   ]
  },
  {
   "cell_type": "code",
   "execution_count": 179,
   "id": "f2ac9673",
   "metadata": {},
   "outputs": [],
   "source": [
    "#check sort_algorithm categories\n",
    "#table(data_sh$sort_algorithm)\n",
    "#added this filter to narrow down data and # of unique journals - there were over 500 unique journal names without additional filters \n",
    "data_sh=data%>% filter(grepl('asthma', query_term)&grepl('corticosteroid', query_term)) "
   ]
  },
  {
   "cell_type": "code",
   "execution_count": 181,
   "id": "09fbd937",
   "metadata": {},
   "outputs": [],
   "source": [
    "#dir.create(Sys.getenv(\"R_LIBS_USER\"), recursive = TRUE)  # create personal library to be able to install packages\n",
    "#.libPaths(Sys.getenv(\"R_LIBS_USER\"))\n",
    "#install.packages('dplyr')\n",
    "library(dplyr)"
   ]
  },
  {
   "cell_type": "code",
   "execution_count": 182,
   "id": "51fe9a57",
   "metadata": {},
   "outputs": [],
   "source": [
    "#Change data_sh to data for final analysis. data_sh is used to test the code"
   ]
  },
  {
   "cell_type": "code",
   "execution_count": 183,
   "id": "9c025a54",
   "metadata": {
    "scrolled": false
   },
   "outputs": [],
   "source": [
    "#Filter the data to keep the search results on 1st page and sorted by data and relevance \n",
    "data_cat=dplyr::filter(data_sh, sort_algorithm==\"date\" |sort_algorithm=='relevance'&page_num==1)"
   ]
  },
  {
   "cell_type": "code",
   "execution_count": 184,
   "id": "931adfa2",
   "metadata": {},
   "outputs": [],
   "source": [
    "#sample data from the 'population' of interest\n",
    "sample=data_cat %>% group_by(sort_algorithm) %>% sample_frac(.2)# X% of rows within each sort group\n",
    "#sample%>% group_by(sort_algorithm) %>% sample_n(2)# X number of rows within each sort group"
   ]
  },
  {
   "cell_type": "code",
   "execution_count": null,
   "id": "f086b557",
   "metadata": {},
   "outputs": [],
   "source": [
    "##create a list of lists for loop below the search by group\n",
    "sort_group=sample%>%group_by(sort_algorithm, .add=TRUE)%>%group_split(sort_algorithm)%>%setNames(unique(sample$sort_algorithm))"
   ]
  },
  {
   "cell_type": "code",
   "execution_count": 186,
   "id": "333b689e",
   "metadata": {},
   "outputs": [],
   "source": [
    "#extract PMID's for the filtered data\n",
    "pmIDs<-list()\n",
    "for (i in names(sort_group)){\n",
    "    pmIDs[[i]] <- paste(sort_group[[i]]$PMID, collapse = \",\")\n",
    "}"
   ]
  },
  {
   "cell_type": "code",
   "execution_count": null,
   "id": "ece7cb48",
   "metadata": {},
   "outputs": [],
   "source": [
    "#install.packages('RISmed') # package used to retrieve info for PMIDs\n",
    "#may give error message - API access isn't stable\n",
    "library(RISmed)\n",
    "pubmed_data<-list()\n",
    "records<-list()\n",
    "for (i in names(pmIDs)){\n",
    "records[[i]]<-EUtilsGet(pmIDs[[i]],type=\"efetch\",db=\"pubmed\") #retrieve the info for each PMID\n",
    "#store the values of interest (3 selected for now)\n",
    "pubmed_data[[i]]<- data.frame('Language' = Language(records[[i]]), 'ISOAbbreviation'= ISOAbbreviation(records[[i]]), 'YearPubDate'=YearPubDate(records[[i]]))\n",
    "}\n",
    "#install.packages('data.table')\n",
    "library(data.table)\n",
    "results=rbindlist(pubmed_data, idcol=c(names(pubmed_data)))\n",
    "sum_data=results%>%group_by(date,ISOAbbreviation, YearPubDate) %>%summarize(Freq=n(),.groups = 'drop') #%>%filter(Freq >3)\n",
    "#install.packages('ggplot2')\n",
    "#library(ggplot2)\n",
    "ggplot(data = sum_data, aes(x = ISOAbbreviation, y = Freq, fill = date)) + \n",
    "    geom_bar(stat='identity')"
   ]
  },
  {
   "cell_type": "code",
   "execution_count": 239,
   "id": "976abe5e",
   "metadata": {},
   "outputs": [],
   "source": [
    "#use rentrez package to retrieve info by pmid. This is alternative to RISmed package\n",
    "library(rentrez)\n",
    "pubmed_data<-list()\n",
    "records<-list()\n",
    "for (i in names(pmIDs)){\n",
    "records[[i]]<-entrez_summary(pmIDs[[i]],type=\"efetch\",db=\"pubmed\") #retrieve the info for each PMID\n",
    "#store the values of interest (3 selected for now)\n",
    "pubmed_data[[i]]<- t(extract_from_esummary(records[[i]], c(\"fulljournalname\", \"pubdate\")))\n",
    "}\n",
    "results=do.call(rbind, Map(cbind, sort_algorithm = seq_along(pubmed_data), pubmed_data))\n",
    "sum_data=data.frame(results)%>%mutate(year = substr(pubdate,1,4))%>%group_by(sort_algorithm,fulljournalname) %>%summarize(Freq=n(),.groups = 'drop') %>% dplyr::filter(!(fulljournalname==\"\"))#%>%filter(Freq >3)\n",
    "\n"
   ]
  }
 ],
 "metadata": {
  "kernelspec": {
   "display_name": "R",
   "language": "R",
   "name": "ir"
  },
  "language_info": {
   "codemirror_mode": "r",
   "file_extension": ".r",
   "mimetype": "text/x-r-source",
   "name": "R",
   "pygments_lexer": "r",
   "version": "3.6.3"
  }
 },
 "nbformat": 4,
 "nbformat_minor": 5
}
